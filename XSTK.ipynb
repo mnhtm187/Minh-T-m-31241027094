{
  "nbformat": 4,
  "nbformat_minor": 0,
  "metadata": {
    "colab": {
      "provenance": [],
      "mount_file_id": "1mGoMHzyJf6__1YxyfwhW231GNOv9kLVx",
      "authorship_tag": "ABX9TyPoUxb+/7TZL7/v3lIl+hIE",
      "include_colab_link": true
    },
    "kernelspec": {
      "name": "python3",
      "display_name": "Python 3"
    },
    "language_info": {
      "name": "python"
    }
  },
  "cells": [
    {
      "cell_type": "markdown",
      "metadata": {
        "id": "view-in-github",
        "colab_type": "text"
      },
      "source": [
        "<a href=\"https://colab.research.google.com/github/mnhtm187/Minh-T-m-31241027094/blob/main/XSTK.ipynb\" target=\"_parent\"><img src=\"https://colab.research.google.com/assets/colab-badge.svg\" alt=\"Open In Colab\"/></a>"
      ]
    },
    {
      "cell_type": "code",
      "source": [
        "pip install matplotlib"
      ],
      "metadata": {
        "colab": {
          "base_uri": "https://localhost:8080/"
        },
        "id": "IRvzhCnEDL3n",
        "outputId": "08173597-e06e-445b-8bab-85b858a09234"
      },
      "execution_count": 2,
      "outputs": [
        {
          "output_type": "stream",
          "name": "stdout",
          "text": [
            "Requirement already satisfied: matplotlib in /usr/local/lib/python3.11/dist-packages (3.10.0)\n",
            "Requirement already satisfied: contourpy>=1.0.1 in /usr/local/lib/python3.11/dist-packages (from matplotlib) (1.3.2)\n",
            "Requirement already satisfied: cycler>=0.10 in /usr/local/lib/python3.11/dist-packages (from matplotlib) (0.12.1)\n",
            "Requirement already satisfied: fonttools>=4.22.0 in /usr/local/lib/python3.11/dist-packages (from matplotlib) (4.57.0)\n",
            "Requirement already satisfied: kiwisolver>=1.3.1 in /usr/local/lib/python3.11/dist-packages (from matplotlib) (1.4.8)\n",
            "Requirement already satisfied: numpy>=1.23 in /usr/local/lib/python3.11/dist-packages (from matplotlib) (2.0.2)\n",
            "Requirement already satisfied: packaging>=20.0 in /usr/local/lib/python3.11/dist-packages (from matplotlib) (24.2)\n",
            "Requirement already satisfied: pillow>=8 in /usr/local/lib/python3.11/dist-packages (from matplotlib) (11.1.0)\n",
            "Requirement already satisfied: pyparsing>=2.3.1 in /usr/local/lib/python3.11/dist-packages (from matplotlib) (3.2.3)\n",
            "Requirement already satisfied: python-dateutil>=2.7 in /usr/local/lib/python3.11/dist-packages (from matplotlib) (2.8.2)\n",
            "Requirement already satisfied: six>=1.5 in /usr/local/lib/python3.11/dist-packages (from python-dateutil>=2.7->matplotlib) (1.17.0)\n"
          ]
        }
      ]
    },
    {
      "cell_type": "code",
      "source": [
        "from google.colab import files\n",
        "uploaded = files.upload()\n"
      ],
      "metadata": {
        "colab": {
          "base_uri": "https://localhost:8080/",
          "height": 73
        },
        "id": "by-GtOIfDWex",
        "outputId": "c0dcdfe5-1268-4672-e693-a731a03a3a88"
      },
      "execution_count": 3,
      "outputs": [
        {
          "output_type": "display_data",
          "data": {
            "text/plain": [
              "<IPython.core.display.HTML object>"
            ],
            "text/html": [
              "\n",
              "     <input type=\"file\" id=\"files-4b848ef1-2fb0-4c91-9b25-440e1659c8e7\" name=\"files[]\" multiple disabled\n",
              "        style=\"border:none\" />\n",
              "     <output id=\"result-4b848ef1-2fb0-4c91-9b25-440e1659c8e7\">\n",
              "      Upload widget is only available when the cell has been executed in the\n",
              "      current browser session. Please rerun this cell to enable.\n",
              "      </output>\n",
              "      <script>// Copyright 2017 Google LLC\n",
              "//\n",
              "// Licensed under the Apache License, Version 2.0 (the \"License\");\n",
              "// you may not use this file except in compliance with the License.\n",
              "// You may obtain a copy of the License at\n",
              "//\n",
              "//      http://www.apache.org/licenses/LICENSE-2.0\n",
              "//\n",
              "// Unless required by applicable law or agreed to in writing, software\n",
              "// distributed under the License is distributed on an \"AS IS\" BASIS,\n",
              "// WITHOUT WARRANTIES OR CONDITIONS OF ANY KIND, either express or implied.\n",
              "// See the License for the specific language governing permissions and\n",
              "// limitations under the License.\n",
              "\n",
              "/**\n",
              " * @fileoverview Helpers for google.colab Python module.\n",
              " */\n",
              "(function(scope) {\n",
              "function span(text, styleAttributes = {}) {\n",
              "  const element = document.createElement('span');\n",
              "  element.textContent = text;\n",
              "  for (const key of Object.keys(styleAttributes)) {\n",
              "    element.style[key] = styleAttributes[key];\n",
              "  }\n",
              "  return element;\n",
              "}\n",
              "\n",
              "// Max number of bytes which will be uploaded at a time.\n",
              "const MAX_PAYLOAD_SIZE = 100 * 1024;\n",
              "\n",
              "function _uploadFiles(inputId, outputId) {\n",
              "  const steps = uploadFilesStep(inputId, outputId);\n",
              "  const outputElement = document.getElementById(outputId);\n",
              "  // Cache steps on the outputElement to make it available for the next call\n",
              "  // to uploadFilesContinue from Python.\n",
              "  outputElement.steps = steps;\n",
              "\n",
              "  return _uploadFilesContinue(outputId);\n",
              "}\n",
              "\n",
              "// This is roughly an async generator (not supported in the browser yet),\n",
              "// where there are multiple asynchronous steps and the Python side is going\n",
              "// to poll for completion of each step.\n",
              "// This uses a Promise to block the python side on completion of each step,\n",
              "// then passes the result of the previous step as the input to the next step.\n",
              "function _uploadFilesContinue(outputId) {\n",
              "  const outputElement = document.getElementById(outputId);\n",
              "  const steps = outputElement.steps;\n",
              "\n",
              "  const next = steps.next(outputElement.lastPromiseValue);\n",
              "  return Promise.resolve(next.value.promise).then((value) => {\n",
              "    // Cache the last promise value to make it available to the next\n",
              "    // step of the generator.\n",
              "    outputElement.lastPromiseValue = value;\n",
              "    return next.value.response;\n",
              "  });\n",
              "}\n",
              "\n",
              "/**\n",
              " * Generator function which is called between each async step of the upload\n",
              " * process.\n",
              " * @param {string} inputId Element ID of the input file picker element.\n",
              " * @param {string} outputId Element ID of the output display.\n",
              " * @return {!Iterable<!Object>} Iterable of next steps.\n",
              " */\n",
              "function* uploadFilesStep(inputId, outputId) {\n",
              "  const inputElement = document.getElementById(inputId);\n",
              "  inputElement.disabled = false;\n",
              "\n",
              "  const outputElement = document.getElementById(outputId);\n",
              "  outputElement.innerHTML = '';\n",
              "\n",
              "  const pickedPromise = new Promise((resolve) => {\n",
              "    inputElement.addEventListener('change', (e) => {\n",
              "      resolve(e.target.files);\n",
              "    });\n",
              "  });\n",
              "\n",
              "  const cancel = document.createElement('button');\n",
              "  inputElement.parentElement.appendChild(cancel);\n",
              "  cancel.textContent = 'Cancel upload';\n",
              "  const cancelPromise = new Promise((resolve) => {\n",
              "    cancel.onclick = () => {\n",
              "      resolve(null);\n",
              "    };\n",
              "  });\n",
              "\n",
              "  // Wait for the user to pick the files.\n",
              "  const files = yield {\n",
              "    promise: Promise.race([pickedPromise, cancelPromise]),\n",
              "    response: {\n",
              "      action: 'starting',\n",
              "    }\n",
              "  };\n",
              "\n",
              "  cancel.remove();\n",
              "\n",
              "  // Disable the input element since further picks are not allowed.\n",
              "  inputElement.disabled = true;\n",
              "\n",
              "  if (!files) {\n",
              "    return {\n",
              "      response: {\n",
              "        action: 'complete',\n",
              "      }\n",
              "    };\n",
              "  }\n",
              "\n",
              "  for (const file of files) {\n",
              "    const li = document.createElement('li');\n",
              "    li.append(span(file.name, {fontWeight: 'bold'}));\n",
              "    li.append(span(\n",
              "        `(${file.type || 'n/a'}) - ${file.size} bytes, ` +\n",
              "        `last modified: ${\n",
              "            file.lastModifiedDate ? file.lastModifiedDate.toLocaleDateString() :\n",
              "                                    'n/a'} - `));\n",
              "    const percent = span('0% done');\n",
              "    li.appendChild(percent);\n",
              "\n",
              "    outputElement.appendChild(li);\n",
              "\n",
              "    const fileDataPromise = new Promise((resolve) => {\n",
              "      const reader = new FileReader();\n",
              "      reader.onload = (e) => {\n",
              "        resolve(e.target.result);\n",
              "      };\n",
              "      reader.readAsArrayBuffer(file);\n",
              "    });\n",
              "    // Wait for the data to be ready.\n",
              "    let fileData = yield {\n",
              "      promise: fileDataPromise,\n",
              "      response: {\n",
              "        action: 'continue',\n",
              "      }\n",
              "    };\n",
              "\n",
              "    // Use a chunked sending to avoid message size limits. See b/62115660.\n",
              "    let position = 0;\n",
              "    do {\n",
              "      const length = Math.min(fileData.byteLength - position, MAX_PAYLOAD_SIZE);\n",
              "      const chunk = new Uint8Array(fileData, position, length);\n",
              "      position += length;\n",
              "\n",
              "      const base64 = btoa(String.fromCharCode.apply(null, chunk));\n",
              "      yield {\n",
              "        response: {\n",
              "          action: 'append',\n",
              "          file: file.name,\n",
              "          data: base64,\n",
              "        },\n",
              "      };\n",
              "\n",
              "      let percentDone = fileData.byteLength === 0 ?\n",
              "          100 :\n",
              "          Math.round((position / fileData.byteLength) * 100);\n",
              "      percent.textContent = `${percentDone}% done`;\n",
              "\n",
              "    } while (position < fileData.byteLength);\n",
              "  }\n",
              "\n",
              "  // All done.\n",
              "  yield {\n",
              "    response: {\n",
              "      action: 'complete',\n",
              "    }\n",
              "  };\n",
              "}\n",
              "\n",
              "scope.google = scope.google || {};\n",
              "scope.google.colab = scope.google.colab || {};\n",
              "scope.google.colab._files = {\n",
              "  _uploadFiles,\n",
              "  _uploadFilesContinue,\n",
              "};\n",
              "})(self);\n",
              "</script> "
            ]
          },
          "metadata": {}
        },
        {
          "output_type": "stream",
          "name": "stdout",
          "text": [
            "Saving số người.xlsx to số người.xlsx\n"
          ]
        }
      ]
    },
    {
      "cell_type": "code",
      "source": [
        "pip install stemgraphic pandas matplotlib openpyxl\n"
      ],
      "metadata": {
        "colab": {
          "base_uri": "https://localhost:8080/"
        },
        "id": "5Z4K-uanxzkP",
        "outputId": "03dd3c4a-7b74-4f40-f87f-0e225851f11f"
      },
      "execution_count": 4,
      "outputs": [
        {
          "output_type": "stream",
          "name": "stdout",
          "text": [
            "Requirement already satisfied: stemgraphic in /usr/local/lib/python3.11/dist-packages (0.9.1)\n",
            "Requirement already satisfied: pandas in /usr/local/lib/python3.11/dist-packages (2.2.2)\n",
            "Requirement already satisfied: matplotlib in /usr/local/lib/python3.11/dist-packages (3.10.0)\n",
            "Requirement already satisfied: openpyxl in /usr/local/lib/python3.11/dist-packages (3.1.5)\n",
            "Requirement already satisfied: docopt in /usr/local/lib/python3.11/dist-packages (from stemgraphic) (0.6.2)\n",
            "Requirement already satisfied: seaborn in /usr/local/lib/python3.11/dist-packages (from stemgraphic) (0.13.2)\n",
            "Requirement already satisfied: numpy>=1.23.2 in /usr/local/lib/python3.11/dist-packages (from pandas) (2.0.2)\n",
            "Requirement already satisfied: python-dateutil>=2.8.2 in /usr/local/lib/python3.11/dist-packages (from pandas) (2.8.2)\n",
            "Requirement already satisfied: pytz>=2020.1 in /usr/local/lib/python3.11/dist-packages (from pandas) (2025.2)\n",
            "Requirement already satisfied: tzdata>=2022.7 in /usr/local/lib/python3.11/dist-packages (from pandas) (2025.2)\n",
            "Requirement already satisfied: contourpy>=1.0.1 in /usr/local/lib/python3.11/dist-packages (from matplotlib) (1.3.2)\n",
            "Requirement already satisfied: cycler>=0.10 in /usr/local/lib/python3.11/dist-packages (from matplotlib) (0.12.1)\n",
            "Requirement already satisfied: fonttools>=4.22.0 in /usr/local/lib/python3.11/dist-packages (from matplotlib) (4.57.0)\n",
            "Requirement already satisfied: kiwisolver>=1.3.1 in /usr/local/lib/python3.11/dist-packages (from matplotlib) (1.4.8)\n",
            "Requirement already satisfied: packaging>=20.0 in /usr/local/lib/python3.11/dist-packages (from matplotlib) (24.2)\n",
            "Requirement already satisfied: pillow>=8 in /usr/local/lib/python3.11/dist-packages (from matplotlib) (11.1.0)\n",
            "Requirement already satisfied: pyparsing>=2.3.1 in /usr/local/lib/python3.11/dist-packages (from matplotlib) (3.2.3)\n",
            "Requirement already satisfied: et-xmlfile in /usr/local/lib/python3.11/dist-packages (from openpyxl) (2.0.0)\n",
            "Requirement already satisfied: six>=1.5 in /usr/local/lib/python3.11/dist-packages (from python-dateutil>=2.8.2->pandas) (1.17.0)\n"
          ]
        }
      ]
    },
    {
      "cell_type": "code",
      "source": [
        "pip install stemgraphic"
      ],
      "metadata": {
        "colab": {
          "base_uri": "https://localhost:8080/"
        },
        "id": "Dhz8vWoVzwBG",
        "outputId": "271fb534-f2b9-4b8c-d461-ee6b1a86f0cd"
      },
      "execution_count": 5,
      "outputs": [
        {
          "output_type": "stream",
          "name": "stdout",
          "text": [
            "Requirement already satisfied: stemgraphic in /usr/local/lib/python3.11/dist-packages (0.9.1)\n",
            "Requirement already satisfied: docopt in /usr/local/lib/python3.11/dist-packages (from stemgraphic) (0.6.2)\n",
            "Requirement already satisfied: matplotlib in /usr/local/lib/python3.11/dist-packages (from stemgraphic) (3.10.0)\n",
            "Requirement already satisfied: pandas in /usr/local/lib/python3.11/dist-packages (from stemgraphic) (2.2.2)\n",
            "Requirement already satisfied: seaborn in /usr/local/lib/python3.11/dist-packages (from stemgraphic) (0.13.2)\n",
            "Requirement already satisfied: contourpy>=1.0.1 in /usr/local/lib/python3.11/dist-packages (from matplotlib->stemgraphic) (1.3.2)\n",
            "Requirement already satisfied: cycler>=0.10 in /usr/local/lib/python3.11/dist-packages (from matplotlib->stemgraphic) (0.12.1)\n",
            "Requirement already satisfied: fonttools>=4.22.0 in /usr/local/lib/python3.11/dist-packages (from matplotlib->stemgraphic) (4.57.0)\n",
            "Requirement already satisfied: kiwisolver>=1.3.1 in /usr/local/lib/python3.11/dist-packages (from matplotlib->stemgraphic) (1.4.8)\n",
            "Requirement already satisfied: numpy>=1.23 in /usr/local/lib/python3.11/dist-packages (from matplotlib->stemgraphic) (2.0.2)\n",
            "Requirement already satisfied: packaging>=20.0 in /usr/local/lib/python3.11/dist-packages (from matplotlib->stemgraphic) (24.2)\n",
            "Requirement already satisfied: pillow>=8 in /usr/local/lib/python3.11/dist-packages (from matplotlib->stemgraphic) (11.1.0)\n",
            "Requirement already satisfied: pyparsing>=2.3.1 in /usr/local/lib/python3.11/dist-packages (from matplotlib->stemgraphic) (3.2.3)\n",
            "Requirement already satisfied: python-dateutil>=2.7 in /usr/local/lib/python3.11/dist-packages (from matplotlib->stemgraphic) (2.8.2)\n",
            "Requirement already satisfied: pytz>=2020.1 in /usr/local/lib/python3.11/dist-packages (from pandas->stemgraphic) (2025.2)\n",
            "Requirement already satisfied: tzdata>=2022.7 in /usr/local/lib/python3.11/dist-packages (from pandas->stemgraphic) (2025.2)\n",
            "Requirement already satisfied: six>=1.5 in /usr/local/lib/python3.11/dist-packages (from python-dateutil>=2.7->matplotlib->stemgraphic) (1.17.0)\n"
          ]
        }
      ]
    },
    {
      "cell_type": "code",
      "source": [
        "import pandas as pd\n",
        "import stemgraphic\n",
        "import matplotlib.pyplot as plt\n",
        "\n",
        "df_raw = pd.read_csv(\"/content/số người.xlsx\", encoding='cp1258', header=None)\n",
        "\n",
        "# Chuẩn bị tiêu đề cột\n",
        "columns = ['Tên hàng'] + [f'Tháng {i:02}' for i in range(1, 13)]\n",
        "df = df_raw.iloc[3:, 0:13]\n",
        "df.columns = columns\n",
        "df = df.reset_index(drop=True)\n",
        "\n",
        "# Chuyển các cột số liệu sang float\n",
        "for col in columns[1:]:\n",
        "    df[col] = pd.to_numeric(df[col], errors='coerce')\n",
        "\n",
        "\n"
      ],
      "metadata": {
        "id": "dkSLb3z6yOrs"
      },
      "execution_count": null,
      "outputs": []
    },
    {
      "cell_type": "code",
      "source": [
        "import pandas as pd\n",
        "import stemgraphic\n",
        "import matplotlib.pyplot as plt\n",
        "\n",
        "# Giả sử dữ liệu trị giá xuất khẩu của một mặt hàng theo 12 tháng\n",
        "data = [4109864.137, 3844660.029, 5285704.388, 4467755.676, 4805859.038,\n",
        "        5167119.202, 4040649.656, 4988923.072, 5134612.548, 4777099.349,\n",
        "        4119441.26, 4794748.807]\n",
        "\n",
        "# Vẽ biểu đồ nhánh - lá\n",
        "stemgraphic.stem_graphic(data)\n",
        "plt.show()\n"
      ],
      "metadata": {
        "colab": {
          "base_uri": "https://localhost:8080/",
          "height": 451
        },
        "id": "AjPSV-qC1cmM",
        "outputId": "3535dadc-5069-4b11-dfb2-8a3a01e758ec"
      },
      "execution_count": null,
      "outputs": [
        {
          "output_type": "display_data",
          "data": {
            "text/plain": [
              "<Figure size 750x450 with 1 Axes>"
            ],
            "image/png": "[encoded data removed]"
          },
          "metadata": {}
        }
      ]
    },
    {
      "cell_type": "code",
      "source": [
        "import pandas as pd\n",
        "\n",
        "# Đọc dữ liệu từ file\n",
        "file_path = \"số người.xlsx\"\n",
        "df = pd.read_excel(file_path)\n",
        "\n",
        "# Trích dữ liệu lĩnh vực \"Khoa học tự nhiên\"\n",
        "years = [2017, 2019, 2021]\n",
        "values = df.iloc[2, 2:5].dropna().astype(int).values  # Lấy cột từ 2017-2021\n",
        "\n",
        "# Tạo stem và leaf\n",
        "stem_leaf = []\n",
        "for year, value in zip(years, values):\n",
        "    stem = value // 100\n",
        "    leaf = value % 100\n",
        "    stem_leaf.append((stem, leaf, year))\n",
        "\n",
        "# In tiêu đề\n",
        "print(\" BIỂU ĐỒ NHÁNH - LÁ: Khoa học tự nhiên\".center(50, \"=\"))\n",
        "print(f\"{'Stem':<6} | {'Leaf':<8} | Năm\")\n",
        "print(\"-\" * 50)\n",
        "\n",
        "# In từng dòng\n",
        "for stem, leaf, year in sorted(stem_leaf):\n",
        "    print(f\"{stem:<6} | {leaf:02d}      | {year}\")\n",
        "\n",
        "print(\"=\" * 50)\n"
      ],
      "metadata": {
        "colab": {
          "base_uri": "https://localhost:8080/"
        },
        "id": "XJE0WzJ8JC4w",
        "outputId": "5a6c5736-8cb7-448c-f8b9-182d7293b1af"
      },
      "execution_count": 7,
      "outputs": [
        {
          "output_type": "stream",
          "name": "stdout",
          "text": [
            "====== BIỂU ĐỒ NHÁNH - LÁ: Khoa học tự nhiên======\n",
            "Stem   | Leaf     | Năm\n",
            "--------------------------------------------------\n",
            "122    | 21      | 2021\n",
            "138    | 54      | 2019\n",
            "141    | 55      | 2017\n",
            "==================================================\n"
          ]
        }
      ]
    },
    {
      "cell_type": "code",
      "source": [
        "import pandas as pd\n",
        "import matplotlib.pyplot as plt\n",
        "\n",
        "# Đọc file Excel\n",
        "file_path = \"số người.xlsx\"\n",
        "df = pd.read_excel(file_path)\n",
        "\n",
        "# Các năm cần lấy\n",
        "years = [2015, 2017, 2019, 2021]\n",
        "row_index = 3  # Dòng \"Khoa học kỹ thuật và công nghệ\"\n",
        "\n",
        "# Trích dữ liệu từ các cột tương ứng với các năm (2015 là cột 1, tiếp theo là 2, 3, 4)\n",
        "values = df.iloc[row_index, 1:5].dropna().astype(int).values\n",
        "\n",
        "# === Biểu đồ nhánh - lá ===\n",
        "stem_leaf = []\n",
        "for year, value in zip(years, values):\n",
        "    stem = value // 100\n",
        "    leaf = value % 100\n",
        "    stem_leaf.append((stem, leaf, year))\n",
        "\n",
        "# In biểu đồ nhánh - lá\n",
        "print(\" BIỂU ĐỒ NHÁNH - LÁ: Khoa học kỹ thuật và công nghệ \".center(60, \"=\"))\n",
        "print(f\"{'Stem':<6} | {'Leaf':<8} | Năm\")\n",
        "print(\"-\" * 60)\n",
        "for stem, leaf, year in sorted(stem_leaf):\n",
        "    print(f\"{stem:<6} | {leaf:02d}      | {year}\")\n",
        "print(\"=\" * 60)\n",
        "\n",
        "\n"
      ],
      "metadata": {
        "colab": {
          "base_uri": "https://localhost:8080/"
        },
        "id": "sE54f3mjJul_",
        "outputId": "d403f41a-9fdd-4d11-df67-3fe23a07827d"
      },
      "execution_count": 9,
      "outputs": [
        {
          "output_type": "stream",
          "name": "stdout",
          "text": [
            "==== BIỂU ĐỒ NHÁNH - LÁ: Khoa học kỹ thuật và công nghệ ====\n",
            "Stem   | Leaf     | Năm\n",
            "------------------------------------------------------------\n",
            "0      | 00      | 2015\n",
            "466    | 85      | 2017\n",
            "530    | 90      | 2019\n",
            "565    | 70      | 2021\n",
            "============================================================\n"
          ]
        }
      ]
    },
    {
      "cell_type": "code",
      "source": [],
      "metadata": {
        "id": "ujU8HpySKB7g"
      },
      "execution_count": null,
      "outputs": []
    },
    {
      "cell_type": "code",
      "source": [
        "import pandas as pd\n",
        "import matplotlib.pyplot as plt\n",
        "\n",
        "# Đọc file Excel\n",
        "file_path = \"số người.xlsx\"\n",
        "df = pd.read_excel(file_path)\n",
        "\n",
        "# Các năm cần lấy\n",
        "years = [2015, 2017, 2019, 2021]\n",
        "row_index = 2  # Dòng \"Khoa học kỹ thuật và công nghệ\"\n",
        "\n",
        "# Trích dữ liệu từ các cột tương ứng với các năm (2015 là cột 1, tiếp theo là 2, 3, 4)\n",
        "values = df.iloc[row_index, 1:5].dropna().astype(int).values\n",
        "\n",
        "# === Biểu đồ nhánh - lá ===\n",
        "stem_leaf = []\n",
        "for year, value in zip(years, values):\n",
        "    stem = value // 100\n",
        "    leaf = value % 100\n",
        "    stem_leaf.append((stem, leaf, year))\n",
        "\n",
        "# In biểu đồ nhánh - lá\n",
        "print(\" BIỂU ĐỒ NHÁNH - LÁ: Khoa học tự nhiên \".center(60, \"=\"))\n",
        "print(f\"{'Stem':<6} | {'Leaf':<8} | Năm\")\n",
        "print(\"-\" * 60)\n",
        "for stem, leaf, year in sorted(stem_leaf):\n",
        "    print(f\"{stem:<6} | {leaf:02d}      | {year}\")\n",
        "print(\"=\" * 60)\n",
        "\n",
        "\n"
      ],
      "metadata": {
        "colab": {
          "base_uri": "https://localhost:8080/"
        },
        "outputId": "fba2fcf7-4f18-48f0-b883-eeb028780325",
        "id": "Z0j0Y0V7KCaA"
      },
      "execution_count": 11,
      "outputs": [
        {
          "output_type": "stream",
          "name": "stdout",
          "text": [
            "========== BIỂU ĐỒ NHÁNH - LÁ: Khoa học tự nhiên ===========\n",
            "Stem   | Leaf     | Năm\n",
            "------------------------------------------------------------\n",
            "0      | 00      | 2015\n",
            "122    | 21      | 2021\n",
            "138    | 54      | 2019\n",
            "141    | 55      | 2017\n",
            "============================================================\n"
          ]
        }
      ]
    },
    {
      "cell_type": "code",
      "source": [
        "import pandas as pd\n",
        "import matplotlib.pyplot as plt\n",
        "\n",
        "# Đọc file Excel\n",
        "file_path = \"số người.xlsx\"\n",
        "df = pd.read_excel(file_path)\n",
        "\n",
        "# Các năm cần lấy\n",
        "years = [2015, 2017, 2019, 2021]\n",
        "row_index = 4  # Dòng \"Khoa học kỹ thuật và công nghệ\"\n",
        "\n",
        "# Trích dữ liệu từ các cột tương ứng với các năm (2015 là cột 1, tiếp theo là 2, 3, 4)\n",
        "values = df.iloc[row_index, 1:5].dropna().astype(int).values\n",
        "\n",
        "# === Biểu đồ nhánh - lá ===\n",
        "stem_leaf = []\n",
        "for year, value in zip(years, values):\n",
        "    stem = value // 100\n",
        "    leaf = value % 100\n",
        "    stem_leaf.append((stem, leaf, year))\n",
        "\n",
        "# In biểu đồ nhánh - lá\n",
        "print(\" BIỂU ĐỒ NHÁNH - LÁ: Khoa học y dược \".center(60, \"=\"))\n",
        "print(f\"{'Stem':<6} | {'Leaf':<8} | Năm\")\n",
        "print(\"-\" * 60)\n",
        "for stem, leaf, year in sorted(stem_leaf):\n",
        "    print(f\"{stem:<6} | {leaf:02d}      | {year}\")\n",
        "print(\"=\" * 60)\n",
        "\n",
        "\n"
      ],
      "metadata": {
        "colab": {
          "base_uri": "https://localhost:8080/"
        },
        "outputId": "74f90dca-5d39-4f7b-d019-252266d654eb",
        "id": "dhAnikp1KM3B"
      },
      "execution_count": 12,
      "outputs": [
        {
          "output_type": "stream",
          "name": "stdout",
          "text": [
            "=========== BIỂU ĐỒ NHÁNH - LÁ: Khoa học y dược ============\n",
            "Stem   | Leaf     | Năm\n",
            "------------------------------------------------------------\n",
            "0      | 00      | 2015\n",
            "158    | 94      | 2017\n",
            "209    | 57      | 2019\n",
            "243    | 11      | 2021\n",
            "============================================================\n"
          ]
        }
      ]
    },
    {
      "cell_type": "code",
      "source": [
        "import pandas as pd\n",
        "import matplotlib.pyplot as plt\n",
        "\n",
        "# Đọc dữ liệu\n",
        "file_path = \"số người.xlsx\"\n",
        "df = pd.read_excel(file_path)\n",
        "\n",
        "# Danh sách các năm cần lấy\n",
        "years = [2015, 2017, 2019, 2021]\n",
        "columns_range = range(1, 5)  # Tương ứng với 4 cột năm\n",
        "\n",
        "# Danh sách lĩnh vực và chỉ số dòng tương ứng\n",
        "fields = {\n",
        "    \"Khoa học tự nhiên\": 2,\n",
        "    \"Khoa học kỹ thuật và công nghệ\": 3,\n",
        "    \"Khoa học y dược\": 4,\n",
        "    \"Khoa học nông nghiệp\": 5,\n",
        "    \"Khoa học xã hội\": 6,\n",
        "    \"Khoa học nhân văn\": 7\n",
        "}\n",
        "\n",
        "# ===== Chọn lĩnh vực tại đây =====\n",
        "selected_field = \"Khoa học nông nghiệp\"  # ← Thay bằng lĩnh vực bạn muốn\n",
        "row_index = fields[selected_field]\n",
        "\n",
        "# Lấy dữ liệu tương ứng\n",
        "values = df.iloc[row_index, columns_range].astype(int).values\n",
        "\n",
        "# Lọc ra các năm có dữ liệu > 0\n",
        "filtered = [(y, v) for y, v in zip(years, values) if v > 0]\n",
        "\n",
        "# Tạo nhánh - lá\n",
        "stem_leaf = []\n",
        "for year, value in filtered:\n",
        "    stem = value // 100\n",
        "    leaf = value % 100\n",
        "    stem_leaf.append((stem, leaf, year))\n",
        "\n",
        "# === Biểu đồ nhánh - lá ===\n",
        "print(f\" BIỂU ĐỒ NHÁNH - LÁ: {selected_field} \".center(60, \"=\"))\n",
        "print(f\"{'Stem':<6} | {'Leaf':<8} | Năm\")\n",
        "print(\"-\" * 60)\n",
        "for stem, leaf, year in sorted(stem_leaf):\n",
        "    print(f\"{stem:<6} | {leaf:02d}      | {year}\")\n",
        "print(\"=\" * 60)\n"
      ],
      "metadata": {
        "colab": {
          "base_uri": "https://localhost:8080/"
        },
        "id": "NNaOIlOuLPG-",
        "outputId": "cf984259-2c3c-4c22-8238-9a4ef407e924"
      },
      "execution_count": 26,
      "outputs": [
        {
          "output_type": "stream",
          "name": "stdout",
          "text": [
            "========= BIỂU ĐỒ NHÁNH - LÁ: Khoa học nông nghiệp =========\n",
            "Stem   | Leaf     | Năm\n",
            "------------------------------------------------------------\n",
            "129    | 13      | 2021\n",
            "132    | 26      | 2019\n",
            "138    | 60      | 2017\n",
            "============================================================\n"
          ]
        }
      ]
    },
    {
      "cell_type": "code",
      "source": [
        "import pandas as pd\n",
        "import matplotlib.pyplot as plt\n",
        "\n",
        "# Đọc dữ liệu\n",
        "file_path = \"số người.xlsx\"\n",
        "df = pd.read_excel(file_path)\n",
        "\n",
        "# Danh sách các năm cần lấy\n",
        "years = [2015, 2017, 2019, 2021]\n",
        "columns_range = range(1, 5)  # Tương ứng với 4 cột năm\n",
        "\n",
        "# Danh sách lĩnh vực và chỉ số dòng tương ứng\n",
        "fields = {\n",
        "    \"Khoa học tự nhiên\": 2,\n",
        "    \"Khoa học kỹ thuật và công nghệ\": 3,\n",
        "    \"Khoa học y dược\": 4,\n",
        "    \"Khoa học nông nghiệp\": 5,\n",
        "    \"Khoa học xã hội\": 6,\n",
        "    \"Khoa học nhân văn\": 7\n",
        "}\n",
        "\n",
        "# ===== Chọn lĩnh vực tại đây =====\n",
        "selected_field = \"Khoa học xã hội\"  # ← Thay bằng lĩnh vực bạn muốn\n",
        "row_index = fields[selected_field]\n",
        "\n",
        "# Lấy dữ liệu tương ứng\n",
        "values = df.iloc[row_index, columns_range].astype(int).values\n",
        "\n",
        "# Lọc ra các năm có dữ liệu > 0\n",
        "filtered = [(y, v) for y, v in zip(years, values) if v > 0]\n",
        "\n",
        "# Tạo nhánh - lá\n",
        "stem_leaf = []\n",
        "for year, value in filtered:\n",
        "    stem = value // 100\n",
        "    leaf = value % 100\n",
        "    stem_leaf.append((stem, leaf, year))\n",
        "\n",
        "# === Biểu đồ nhánh - lá ===\n",
        "print(f\" BIỂU ĐỒ NHÁNH - LÁ: {selected_field} \".center(60, \"=\"))\n",
        "print(f\"{'Stem':<6} | {'Leaf':<8} | Năm\")\n",
        "print(\"-\" * 60)\n",
        "for stem, leaf, year in sorted(stem_leaf):\n",
        "    print(f\"{stem:<6} | {leaf:02d}      | {year}\")\n",
        "print(\"=\" * 60)\n"
      ],
      "metadata": {
        "colab": {
          "base_uri": "https://localhost:8080/"
        },
        "id": "N0LDqASnLVIq",
        "outputId": "8fbd575b-35f7-45f5-a510-b181f2f96510"
      },
      "execution_count": 27,
      "outputs": [
        {
          "output_type": "stream",
          "name": "stdout",
          "text": [
            "=========== BIỂU ĐỒ NHÁNH - LÁ: Khoa học xã hội ============\n",
            "Stem   | Leaf     | Năm\n",
            "------------------------------------------------------------\n",
            "367    | 85      | 2017\n",
            "413    | 65      | 2019\n",
            "430    | 24      | 2021\n",
            "============================================================\n"
          ]
        }
      ]
    },
    {
      "cell_type": "code",
      "source": [
        "import pandas as pd\n",
        "import matplotlib.pyplot as plt\n",
        "\n",
        "# Đọc dữ liệu\n",
        "file_path = \"số người.xlsx\"\n",
        "df = pd.read_excel(file_path)\n",
        "\n",
        "# Danh sách các năm cần lấy\n",
        "years = [2015, 2017, 2019, 2021]\n",
        "columns_range = range(1, 5)  # Tương ứng với 4 cột năm\n",
        "\n",
        "# Danh sách lĩnh vực và chỉ số dòng tương ứng\n",
        "fields = {\n",
        "    \"Khoa học tự nhiên\": 2,\n",
        "    \"Khoa học kỹ thuật và công nghệ\": 3,\n",
        "    \"Khoa học y dược\": 4,\n",
        "    \"Khoa học nông nghiệp\": 5,\n",
        "    \"Khoa học xã hội\": 6,\n",
        "    \"Khoa học nhân văn\": 7\n",
        "}\n",
        "\n",
        "# ===== Chọn lĩnh vực tại đây =====\n",
        "selected_field = \"Khoa học nhân văn\"  # ← Thay bằng lĩnh vực bạn muốn\n",
        "row_index = fields[selected_field]\n",
        "\n",
        "# Lấy dữ liệu tương ứng\n",
        "values = df.iloc[row_index, columns_range].astype(int).values\n",
        "\n",
        "# Lọc ra các năm có dữ liệu > 0\n",
        "filtered = [(y, v) for y, v in zip(years, values) if v > 0]\n",
        "\n",
        "# Tạo nhánh - lá\n",
        "stem_leaf = []\n",
        "for year, value in filtered:\n",
        "    stem = value // 100\n",
        "    leaf = value % 100\n",
        "    stem_leaf.append((stem, leaf, year))\n",
        "\n",
        "# === Biểu đồ nhánh - lá ===\n",
        "print(f\" BIỂU ĐỒ NHÁNH - LÁ: {selected_field} \".center(60, \"=\"))\n",
        "print(f\"{'Stem':<6} | {'Leaf':<8} | Năm\")\n",
        "print(\"-\" * 60)\n",
        "for stem, leaf, year in sorted(stem_leaf):\n",
        "    print(f\"{stem:<6} | {leaf:02d}      | {year}\")\n",
        "print(\"=\" * 60)\n"
      ],
      "metadata": {
        "colab": {
          "base_uri": "https://localhost:8080/"
        },
        "id": "xrKBpFwqLY2v",
        "outputId": "f73ffadb-5ae2-4fc7-c439-dc01dcb0fe19"
      },
      "execution_count": 28,
      "outputs": [
        {
          "output_type": "stream",
          "name": "stdout",
          "text": [
            "========== BIỂU ĐỒ NHÁNH - LÁ: Khoa học nhân văn ===========\n",
            "Stem   | Leaf     | Năm\n",
            "------------------------------------------------------------\n",
            "75     | 49      | 2021\n",
            "75     | 97      | 2019\n",
            "86     | 91      | 2017\n",
            "============================================================\n"
          ]
        }
      ]
    }
  ]
}